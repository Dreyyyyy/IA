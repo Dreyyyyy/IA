{
 "cells": [
  {
   "cell_type": "code",
   "execution_count": 3,
   "id": "cf0bcb1e",
   "metadata": {},
   "outputs": [],
   "source": [
    "#Importando pandas\n",
    "import pandas as pd"
   ]
  },
  {
   "cell_type": "code",
   "execution_count": 1,
   "id": "7657bfd4",
   "metadata": {},
   "outputs": [],
   "source": [
    "#Criando lista de names\n",
    "names = ['target', 'rbarba', 'gbarba', 'bbarba', 'rsapato',\n",
    "         'gsapato', 'bsapato', 'rcamisa', 'gcamisa', 'bcamisa', \n",
    "        'rcalça', 'gcalça', 'bcalça','rcabelo', \n",
    "        'gcabelo', 'bcabelo']"
   ]
  },
  {
   "cell_type": "code",
   "execution_count": 15,
   "id": "4754858a",
   "metadata": {},
   "outputs": [
    {
     "data": {
      "text/html": [
       "<div>\n",
       "<style scoped>\n",
       "    .dataframe tbody tr th:only-of-type {\n",
       "        vertical-align: middle;\n",
       "    }\n",
       "\n",
       "    .dataframe tbody tr th {\n",
       "        vertical-align: top;\n",
       "    }\n",
       "\n",
       "    .dataframe thead th {\n",
       "        text-align: right;\n",
       "    }\n",
       "</style>\n",
       "<table border=\"1\" class=\"dataframe\">\n",
       "  <thead>\n",
       "    <tr style=\"text-align: right;\">\n",
       "      <th></th>\n",
       "      <th>target</th>\n",
       "      <th>rbarba</th>\n",
       "      <th>gbarba</th>\n",
       "      <th>bbarba</th>\n",
       "      <th>rsapato</th>\n",
       "      <th>gsapato</th>\n",
       "      <th>bsapato</th>\n",
       "      <th>rcamisa</th>\n",
       "      <th>gcamisa</th>\n",
       "      <th>bcamisa</th>\n",
       "      <th>rcalça</th>\n",
       "      <th>gcalça</th>\n",
       "      <th>bcalça</th>\n",
       "      <th>rcabelo</th>\n",
       "      <th>gcabelo</th>\n",
       "      <th>bcabelo</th>\n",
       "    </tr>\n",
       "  </thead>\n",
       "  <tbody>\n",
       "    <tr>\n",
       "      <th>0</th>\n",
       "      <td>1</td>\n",
       "      <td>188</td>\n",
       "      <td>172</td>\n",
       "      <td>106</td>\n",
       "      <td>33</td>\n",
       "      <td>27</td>\n",
       "      <td>32</td>\n",
       "      <td>254</td>\n",
       "      <td>254</td>\n",
       "      <td>254</td>\n",
       "      <td>0</td>\n",
       "      <td>106</td>\n",
       "      <td>172</td>\n",
       "      <td>238</td>\n",
       "      <td>188</td>\n",
       "      <td>0</td>\n",
       "    </tr>\n",
       "    <tr>\n",
       "      <th>1</th>\n",
       "      <td>1</td>\n",
       "      <td>189</td>\n",
       "      <td>173</td>\n",
       "      <td>107</td>\n",
       "      <td>254</td>\n",
       "      <td>254</td>\n",
       "      <td>254</td>\n",
       "      <td>254</td>\n",
       "      <td>254</td>\n",
       "      <td>254</td>\n",
       "      <td>254</td>\n",
       "      <td>254</td>\n",
       "      <td>254</td>\n",
       "      <td>239</td>\n",
       "      <td>189</td>\n",
       "      <td>0</td>\n",
       "    </tr>\n",
       "    <tr>\n",
       "      <th>2</th>\n",
       "      <td>1</td>\n",
       "      <td>189</td>\n",
       "      <td>173</td>\n",
       "      <td>107</td>\n",
       "      <td>254</td>\n",
       "      <td>254</td>\n",
       "      <td>254</td>\n",
       "      <td>254</td>\n",
       "      <td>254</td>\n",
       "      <td>254</td>\n",
       "      <td>254</td>\n",
       "      <td>254</td>\n",
       "      <td>254</td>\n",
       "      <td>239</td>\n",
       "      <td>189</td>\n",
       "      <td>0</td>\n",
       "    </tr>\n",
       "    <tr>\n",
       "      <th>3</th>\n",
       "      <td>1</td>\n",
       "      <td>188</td>\n",
       "      <td>172</td>\n",
       "      <td>106</td>\n",
       "      <td>33</td>\n",
       "      <td>27</td>\n",
       "      <td>32</td>\n",
       "      <td>255</td>\n",
       "      <td>255</td>\n",
       "      <td>255</td>\n",
       "      <td>0</td>\n",
       "      <td>107</td>\n",
       "      <td>173</td>\n",
       "      <td>239</td>\n",
       "      <td>189</td>\n",
       "      <td>0</td>\n",
       "    </tr>\n",
       "    <tr>\n",
       "      <th>4</th>\n",
       "      <td>1</td>\n",
       "      <td>198</td>\n",
       "      <td>181</td>\n",
       "      <td>238</td>\n",
       "      <td>188</td>\n",
       "      <td>0</td>\n",
       "      <td>32</td>\n",
       "      <td>188</td>\n",
       "      <td>0</td>\n",
       "      <td>32</td>\n",
       "      <td>0</td>\n",
       "      <td>106</td>\n",
       "      <td>172</td>\n",
       "      <td>238</td>\n",
       "      <td>188</td>\n",
       "      <td>0</td>\n",
       "    </tr>\n",
       "  </tbody>\n",
       "</table>\n",
       "</div>"
      ],
      "text/plain": [
       "   target  rbarba  gbarba  bbarba  rsapato  gsapato  bsapato  rcamisa  \\\n",
       "0       1     188     172     106       33       27       32      254   \n",
       "1       1     189     173     107      254      254      254      254   \n",
       "2       1     189     173     107      254      254      254      254   \n",
       "3       1     188     172     106       33       27       32      255   \n",
       "4       1     198     181     238      188        0       32      188   \n",
       "\n",
       "   gcamisa  bcamisa  rcalça  gcalça  bcalça  rcabelo  gcabelo  bcabelo  \n",
       "0      254      254       0     106     172      238      188        0  \n",
       "1      254      254     254     254     254      239      189        0  \n",
       "2      254      254     254     254     254      239      189        0  \n",
       "3      255      255       0     107     173      239      189        0  \n",
       "4        0       32       0     106     172      238      188        0  "
      ]
     },
     "execution_count": 15,
     "metadata": {},
     "output_type": "execute_result"
    }
   ],
   "source": [
    "#Dataset de treino\n",
    "dataset_train = pd.read_csv('dados_treinamento.txt', header=None, names=names)\n",
    "dataset_train.head(5)"
   ]
  },
  {
   "cell_type": "code",
   "execution_count": 16,
   "id": "10823dd9",
   "metadata": {},
   "outputs": [
    {
     "data": {
      "text/html": [
       "<div>\n",
       "<style scoped>\n",
       "    .dataframe tbody tr th:only-of-type {\n",
       "        vertical-align: middle;\n",
       "    }\n",
       "\n",
       "    .dataframe tbody tr th {\n",
       "        vertical-align: top;\n",
       "    }\n",
       "\n",
       "    .dataframe thead th {\n",
       "        text-align: right;\n",
       "    }\n",
       "</style>\n",
       "<table border=\"1\" class=\"dataframe\">\n",
       "  <thead>\n",
       "    <tr style=\"text-align: right;\">\n",
       "      <th></th>\n",
       "      <th>target</th>\n",
       "      <th>rbarba</th>\n",
       "      <th>gbarba</th>\n",
       "      <th>bbarba</th>\n",
       "      <th>rsapato</th>\n",
       "      <th>gsapato</th>\n",
       "      <th>bsapato</th>\n",
       "      <th>rcamisa</th>\n",
       "      <th>gcamisa</th>\n",
       "      <th>bcamisa</th>\n",
       "      <th>rcalça</th>\n",
       "      <th>gcalça</th>\n",
       "      <th>bcalça</th>\n",
       "      <th>rcabelo</th>\n",
       "      <th>gcabelo</th>\n",
       "      <th>bcabelo</th>\n",
       "    </tr>\n",
       "  </thead>\n",
       "  <tbody>\n",
       "    <tr>\n",
       "      <th>0</th>\n",
       "      <td>1</td>\n",
       "      <td>8</td>\n",
       "      <td>41</td>\n",
       "      <td>90</td>\n",
       "      <td>198</td>\n",
       "      <td>0</td>\n",
       "      <td>33</td>\n",
       "      <td>0</td>\n",
       "      <td>66</td>\n",
       "      <td>107</td>\n",
       "      <td>8</td>\n",
       "      <td>41</td>\n",
       "      <td>90</td>\n",
       "      <td>8</td>\n",
       "      <td>41</td>\n",
       "      <td>90</td>\n",
       "    </tr>\n",
       "    <tr>\n",
       "      <th>1</th>\n",
       "      <td>1</td>\n",
       "      <td>181</td>\n",
       "      <td>156</td>\n",
       "      <td>99</td>\n",
       "      <td>255</td>\n",
       "      <td>255</td>\n",
       "      <td>255</td>\n",
       "      <td>132</td>\n",
       "      <td>132</td>\n",
       "      <td>123</td>\n",
       "      <td>90</td>\n",
       "      <td>57</td>\n",
       "      <td>8</td>\n",
       "      <td>255</td>\n",
       "      <td>255</td>\n",
       "      <td>255</td>\n",
       "    </tr>\n",
       "    <tr>\n",
       "      <th>2</th>\n",
       "      <td>1</td>\n",
       "      <td>181</td>\n",
       "      <td>156</td>\n",
       "      <td>99</td>\n",
       "      <td>82</td>\n",
       "      <td>173</td>\n",
       "      <td>206</td>\n",
       "      <td>198</td>\n",
       "      <td>0</td>\n",
       "      <td>33</td>\n",
       "      <td>198</td>\n",
       "      <td>0</td>\n",
       "      <td>33</td>\n",
       "      <td>239</td>\n",
       "      <td>189</td>\n",
       "      <td>0</td>\n",
       "    </tr>\n",
       "    <tr>\n",
       "      <th>3</th>\n",
       "      <td>1</td>\n",
       "      <td>206</td>\n",
       "      <td>173</td>\n",
       "      <td>115</td>\n",
       "      <td>82</td>\n",
       "      <td>66</td>\n",
       "      <td>74</td>\n",
       "      <td>82</td>\n",
       "      <td>66</td>\n",
       "      <td>74</td>\n",
       "      <td>24</td>\n",
       "      <td>24</td>\n",
       "      <td>33</td>\n",
       "      <td>239</td>\n",
       "      <td>189</td>\n",
       "      <td>0</td>\n",
       "    </tr>\n",
       "    <tr>\n",
       "      <th>4</th>\n",
       "      <td>1</td>\n",
       "      <td>255</td>\n",
       "      <td>247</td>\n",
       "      <td>148</td>\n",
       "      <td>255</td>\n",
       "      <td>247</td>\n",
       "      <td>148</td>\n",
       "      <td>210</td>\n",
       "      <td>193</td>\n",
       "      <td>66</td>\n",
       "      <td>255</td>\n",
       "      <td>247</td>\n",
       "      <td>148</td>\n",
       "      <td>239</td>\n",
       "      <td>189</td>\n",
       "      <td>0</td>\n",
       "    </tr>\n",
       "  </tbody>\n",
       "</table>\n",
       "</div>"
      ],
      "text/plain": [
       "   target  rbarba  gbarba  bbarba  rsapato  gsapato  bsapato  rcamisa  \\\n",
       "0       1       8      41      90      198        0       33        0   \n",
       "1       1     181     156      99      255      255      255      132   \n",
       "2       1     181     156      99       82      173      206      198   \n",
       "3       1     206     173     115       82       66       74       82   \n",
       "4       1     255     247     148      255      247      148      210   \n",
       "\n",
       "   gcamisa  bcamisa  rcalça  gcalça  bcalça  rcabelo  gcabelo  bcabelo  \n",
       "0       66      107       8      41      90        8       41       90  \n",
       "1      132      123      90      57       8      255      255      255  \n",
       "2        0       33     198       0      33      239      189        0  \n",
       "3       66       74      24      24      33      239      189        0  \n",
       "4      193       66     255     247     148      239      189        0  "
      ]
     },
     "execution_count": 16,
     "metadata": {},
     "output_type": "execute_result"
    }
   ],
   "source": [
    "#Dataset de teste\n",
    "dataset_test = pd.read_csv('dados_teste.txt', header=None, names=names)\n",
    "dataset_test.head(5)"
   ]
  },
  {
   "cell_type": "code",
   "execution_count": 18,
   "id": "e5ed099a",
   "metadata": {},
   "outputs": [
    {
     "data": {
      "text/plain": [
       "1    61\n",
       "0    24\n",
       "Name: target, dtype: int64"
      ]
     },
     "execution_count": 18,
     "metadata": {},
     "output_type": "execute_result"
    }
   ],
   "source": [
    "#Valores do target\n",
    "dataset_train.target.value_counts()"
   ]
  },
  {
   "cell_type": "code",
   "execution_count": 125,
   "id": "70f71241",
   "metadata": {},
   "outputs": [],
   "source": [
    "#Selecionando apenas 2 columnas para melhor visualização\n",
    "dataset_train1 = dataset_train.loc[dataset_train.target.isin([0,1]),['rbarba','gbarba', 'target']]\n",
    "\n",
    "dataset_test1 = dataset_test.loc[dataset_train.target.isin([0,1]),['rbarba','gbarba', 'target']]"
   ]
  },
  {
   "cell_type": "code",
   "execution_count": 126,
   "id": "8e804490",
   "metadata": {},
   "outputs": [],
   "source": [
    "#Separando X e Y\n",
    "X_train = dataset_train1.drop('target', axis=1)\n",
    "y_train = dataset_train1.target\n",
    "\n",
    "X_test = dataset_test1.drop('target', axis=1)\n",
    "y_test = dataset_test1.target"
   ]
  },
  {
   "cell_type": "code",
   "execution_count": 154,
   "id": "01c3fe3e",
   "metadata": {},
   "outputs": [
    {
     "data": {
      "image/png": "[encoded data removed]",
      "text/plain": [
       "<Figure size 432x288 with 1 Axes>"
      ]
     },
     "metadata": {
      "needs_background": "light"
     },
     "output_type": "display_data"
    }
   ],
   "source": [
    "#Visualizando os dados de treino\n",
    "import matplotlib.pyplot as plt\n",
    "\n",
    "fig, ax = plt.subplots()\n",
    "\n",
    "ax.scatter(X_train['rbarba'], \n",
    "           X_train['gbarba'], \n",
    "           c=y_train)\n",
    "\n",
    "ax.set(xlim=(-1, 260), xticks=[-4, 50, 100, 150, 200, 260],\n",
    "       ylim=(10, 220), yticks=[5, 40, 80, 130, 180, 220])\n",
    "\n",
    "plt.show()"
   ]
  },
  {
   "cell_type": "code",
   "execution_count": 129,
   "id": "679fa97c",
   "metadata": {},
   "outputs": [],
   "source": [
    "#Importando árvore de decisão\n",
    "from sklearn import tree"
   ]
  },
  {
   "cell_type": "code",
   "execution_count": 130,
   "id": "e9ca0650",
   "metadata": {},
   "outputs": [],
   "source": [
    "# Criando o classificador\n",
    "clf = tree.DecisionTreeClassifier()"
   ]
  },
  {
   "cell_type": "code",
   "execution_count": 131,
   "id": "321ed07c",
   "metadata": {},
   "outputs": [],
   "source": [
    "#Fazendo o fit com os dados de treino\n",
    "clf = clf.fit(X_train, y_train)"
   ]
  },
  {
   "cell_type": "code",
   "execution_count": 132,
   "id": "876a8420",
   "metadata": {},
   "outputs": [
    {
     "data": {
      "text/plain": [
       "1.0"
      ]
     },
     "execution_count": 132,
     "metadata": {},
     "output_type": "execute_result"
    }
   ],
   "source": [
    "#Verificando o score\n",
    "clf.score(X_train, y_train)"
   ]
  },
  {
   "cell_type": "code",
   "execution_count": 139,
   "id": "1e2a25d9",
   "metadata": {},
   "outputs": [
    {
     "data": {
      "image/png": "[encoded data removed]",
      "text/plain": [
       "<Figure size 432x432 with 1 Axes>"
      ]
     },
     "metadata": {
      "needs_background": "light"
     },
     "output_type": "display_data"
    }
   ],
   "source": [
    "#Visualizando essa árvore\n",
    "fig, ax = plt.subplots(figsize=(6,6))\n",
    "\n",
    "tree.plot_tree(clf)\n",
    "\n",
    "plt.show()"
   ]
  },
  {
   "cell_type": "code",
   "execution_count": 156,
   "id": "8b019d2c",
   "metadata": {},
   "outputs": [
    {
     "data": {
      "image/png": "[encoded data removed]",
      "text/plain": [
       "<Figure size 432x288 with 1 Axes>"
      ]
     },
     "metadata": {
      "needs_background": "light"
     },
     "output_type": "display_data"
    }
   ],
   "source": [
    "#Adicionando essas regras ao gráfico\n",
    "import matplotlib.pyplot as plt\n",
    "\n",
    "fig, ax = plt.subplots()\n",
    "\n",
    "ax.scatter(X_train['rbarba'], \n",
    "           X_train['gbarba'], \n",
    "           c=y_train)\n",
    "\n",
    "#ax.plot([0,250], [50,50], '--r')\n",
    "\n",
    "ax.set(xlim=(-1, 260), xticks=[-4, 50, 100, 150, 200, 260],\n",
    "       ylim=(10, 220), yticks=[5, 40, 80, 130, 180, 220])\n",
    "\n",
    "plt.show()"
   ]
  },
  {
   "cell_type": "code",
   "execution_count": 135,
   "id": "19189ad1",
   "metadata": {},
   "outputs": [
    {
     "data": {
      "text/plain": [
       "array([[ 4,  6],\n",
       "       [ 3, 22]], dtype=int64)"
      ]
     },
     "execution_count": 135,
     "metadata": {},
     "output_type": "execute_result"
    }
   ],
   "source": [
    "#Fazendo a previsão e avaliando o erro\n",
    "y_pred = clf.predict(X_test)\n",
    "\n",
    "from sklearn.metrics import confusion_matrix\n",
    "confusion_matrix(y_test, y_pred)"
   ]
  },
  {
   "cell_type": "code",
   "execution_count": 140,
   "id": "3ee488e5",
   "metadata": {},
   "outputs": [
    {
     "data": {
      "image/png": "[encoded data removed]",
      "text/plain": [
       "<Figure size 432x288 with 1 Axes>"
      ]
     },
     "metadata": {
      "needs_background": "light"
     },
     "output_type": "display_data"
    }
   ],
   "source": [
    "#Visualizando esses dados de teste no gráfico\n",
    "\n",
    "import matplotlib.pyplot as plt\n",
    "\n",
    "fig, ax = plt.subplots()\n",
    "\n",
    "ax.scatter(X_test['rbarba'], \n",
    "           X_test['gbarba'], \n",
    "           c=y_test)\n",
    "\n",
    "ax.plot([0,250], [50,50], '--r')\n",
    "\n",
    "plt.show()"
   ]
  },
  {
   "cell_type": "code",
   "execution_count": 173,
   "id": "e019584f",
   "metadata": {},
   "outputs": [],
   "source": [
    "#Separando X e Y para todo o dataset\n",
    "X_train = dataset_train.drop('target', axis=1)\n",
    "y_train = dataset_train.target\n",
    "\n",
    "X_test = dataset_test.drop('target', axis=1)\n",
    "y_test = dataset_test.target"
   ]
  },
  {
   "cell_type": "code",
   "execution_count": 175,
   "id": "aa308828",
   "metadata": {},
   "outputs": [],
   "source": [
    "#Criando o classificador e fazendo o fit\n",
    "clf2 = tree.DecisionTreeClassifier().fit(X_train, y_train)"
   ]
  },
  {
   "cell_type": "code",
   "execution_count": 176,
   "id": "340fe1be",
   "metadata": {},
   "outputs": [
    {
     "data": {
      "text/plain": [
       "1.0"
      ]
     },
     "execution_count": 176,
     "metadata": {},
     "output_type": "execute_result"
    }
   ],
   "source": [
    "#Verificando o score\n",
    "clf2.score(X_train, y_train)"
   ]
  },
  {
   "cell_type": "code",
   "execution_count": 177,
   "id": "2835ebf1",
   "metadata": {},
   "outputs": [
    {
     "data": {
      "image/png": "[encoded data removed]",
      "text/plain": [
       "<Figure size 432x432 with 1 Axes>"
      ]
     },
     "metadata": {
      "needs_background": "light"
     },
     "output_type": "display_data"
    }
   ],
   "source": [
    "#Visualizando a árvore\n",
    "fig, ax = plt.subplots(figsize=(6,6))\n",
    "\n",
    "tree.plot_tree(clf2)\n",
    "\n",
    "plt.show()"
   ]
  },
  {
   "cell_type": "code",
   "execution_count": 170,
   "id": "2f799c1e",
   "metadata": {},
   "outputs": [],
   "source": [
    "#Fazendo a previsão\n",
    "y_pred2 = clf2.predict(X_test)"
   ]
  },
  {
   "cell_type": "code",
   "execution_count": 174,
   "id": "61065f1a",
   "metadata": {},
   "outputs": [
    {
     "data": {
      "text/plain": [
       "array([[ 5,  5],\n",
       "       [ 3, 22]], dtype=int64)"
      ]
     },
     "execution_count": 174,
     "metadata": {},
     "output_type": "execute_result"
    }
   ],
   "source": [
    "#Avaliando o modelo\n",
    "confusion_matrix(y_test, y_pred2)"
   ]
  },
  {
   "cell_type": "code",
   "execution_count": null,
   "id": "56df7795",
   "metadata": {},
   "outputs": [],
   "source": []
  }
 ],
 "metadata": {
  "kernelspec": {
   "display_name": "Python 3 (ipykernel)",
   "language": "python",
   "name": "python3"
  },
  "language_info": {
   "codemirror_mode": {
    "name": "ipython",
    "version": 3
   },
   "file_extension": ".py",
   "mimetype": "text/x-python",
   "name": "python",
   "nbconvert_exporter": "python",
   "pygments_lexer": "ipython3",
   "version": "3.9.12"
  }
 },
 "nbformat": 4,
 "nbformat_minor": 5
}
